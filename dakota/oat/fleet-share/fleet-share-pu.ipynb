{
 "cells": [
  {
   "cell_type": "markdown",
   "metadata": {},
   "source": [
    "** In this Jupyter Notebook, the absolute + sensitivity analysis results are generated for a One-at-a-time sensitivity analysis of fleet share percentage for the proliferation risk evaluation metric. The reason why this metric is separated from the others is that you need the -exp version of each sqlite and pyne on your machine to make it work **"
   ]
  },
  {
   "cell_type": "code",
   "execution_count": 1,
   "metadata": {},
   "outputs": [
    {
     "name": "stderr",
     "output_type": "stream",
     "text": [
      "/Users/gwenchee/anaconda3/lib/python3.6/importlib/_bootstrap.py:219: QAWarning: pyne.data is not yet QA compliant.\n",
      "  return f(*args, **kwds)\n",
      "/Users/gwenchee/anaconda3/lib/python3.6/importlib/_bootstrap.py:219: QAWarning: pyne.material is not yet QA compliant.\n",
      "  return f(*args, **kwds)\n",
      "/Users/gwenchee/anaconda3/lib/python3.6/importlib/_bootstrap.py:219: QAWarning: pyne.enrichment is not yet QA compliant.\n",
      "  return f(*args, **kwds)\n"
     ]
    }
   ],
   "source": [
    "import cymetric as cym\n",
    "from cymetric import timeseries\n",
    "import matplotlib as plt \n",
    "import pandas as pd\n",
    "import numpy as np\n",
    "import sys \n",
    "sys.path.insert(0, '../../../scripts/')\n",
    "import output as oup"
   ]
  },
  {
   "cell_type": "markdown",
   "metadata": {},
   "source": [
    "# This is when you already have the results "
   ]
  },
  {
   "cell_type": "code",
   "execution_count": 2,
   "metadata": {},
   "outputs": [
    {
     "data": {
      "text/html": [
       "<div>\n",
       "<style scoped>\n",
       "    .dataframe tbody tr th:only-of-type {\n",
       "        vertical-align: middle;\n",
       "    }\n",
       "\n",
       "    .dataframe tbody tr th {\n",
       "        vertical-align: top;\n",
       "    }\n",
       "\n",
       "    .dataframe thead th {\n",
       "        text-align: right;\n",
       "    }\n",
       "</style>\n",
       "<table border=\"1\" class=\"dataframe\">\n",
       "  <thead>\n",
       "    <tr style=\"text-align: right;\">\n",
       "      <th></th>\n",
       "      <th>Max Pu in all CP</th>\n",
       "      <th>Pu Quality in all CP at Max Pu</th>\n",
       "      <th>Max Pu in HLW</th>\n",
       "      <th>Pu Quality in HLW at Max Pu</th>\n",
       "      <th>Max Pu in all RPR</th>\n",
       "      <th>Pu Quality in all RPR at Max Pu</th>\n",
       "    </tr>\n",
       "    <tr>\n",
       "      <th>FS</th>\n",
       "      <th></th>\n",
       "      <th></th>\n",
       "      <th></th>\n",
       "      <th></th>\n",
       "      <th></th>\n",
       "      <th></th>\n",
       "    </tr>\n",
       "  </thead>\n",
       "  <tbody>\n",
       "    <tr>\n",
       "      <th>0</th>\n",
       "      <td>256794.0273</td>\n",
       "      <td>0.656144</td>\n",
       "      <td>45816.01856</td>\n",
       "      <td>0.616190</td>\n",
       "      <td>2357604.009</td>\n",
       "      <td>0.548165</td>\n",
       "    </tr>\n",
       "    <tr>\n",
       "      <th>5</th>\n",
       "      <td>273733.1322</td>\n",
       "      <td>0.618838</td>\n",
       "      <td>44338.72473</td>\n",
       "      <td>0.617842</td>\n",
       "      <td>2461421.306</td>\n",
       "      <td>0.512185</td>\n",
       "    </tr>\n",
       "    <tr>\n",
       "      <th>10</th>\n",
       "      <td>279694.7846</td>\n",
       "      <td>0.605865</td>\n",
       "      <td>44055.53671</td>\n",
       "      <td>0.618561</td>\n",
       "      <td>2513133.758</td>\n",
       "      <td>0.496724</td>\n",
       "    </tr>\n",
       "    <tr>\n",
       "      <th>15</th>\n",
       "      <td>285794.8482</td>\n",
       "      <td>0.593123</td>\n",
       "      <td>42905.59368</td>\n",
       "      <td>0.619136</td>\n",
       "      <td>2552142.815</td>\n",
       "      <td>0.480625</td>\n",
       "    </tr>\n",
       "    <tr>\n",
       "      <th>20</th>\n",
       "      <td>291786.5398</td>\n",
       "      <td>0.581150</td>\n",
       "      <td>43133.60862</td>\n",
       "      <td>0.619916</td>\n",
       "      <td>2605589.017</td>\n",
       "      <td>0.466663</td>\n",
       "    </tr>\n",
       "  </tbody>\n",
       "</table>\n",
       "</div>"
      ],
      "text/plain": [
       "    Max Pu in all CP  Pu Quality in all CP at Max Pu  Max Pu in HLW  \\\n",
       "FS                                                                    \n",
       "0        256794.0273                        0.656144    45816.01856   \n",
       "5        273733.1322                        0.618838    44338.72473   \n",
       "10       279694.7846                        0.605865    44055.53671   \n",
       "15       285794.8482                        0.593123    42905.59368   \n",
       "20       291786.5398                        0.581150    43133.60862   \n",
       "\n",
       "    Pu Quality in HLW at Max Pu  Max Pu in all RPR  \\\n",
       "FS                                                   \n",
       "0                      0.616190        2357604.009   \n",
       "5                      0.617842        2461421.306   \n",
       "10                     0.618561        2513133.758   \n",
       "15                     0.619136        2552142.815   \n",
       "20                     0.619916        2605589.017   \n",
       "\n",
       "    Pu Quality in all RPR at Max Pu  \n",
       "FS                                   \n",
       "0                          0.548165  \n",
       "5                          0.512185  \n",
       "10                         0.496724  \n",
       "15                         0.480625  \n",
       "20                         0.466663  "
      ]
     },
     "execution_count": 2,
     "metadata": {},
     "output_type": "execute_result"
    }
   ],
   "source": [
    "df_p = pd.read_csv('fs-df-pu.csv',index_col='FS')\n",
    "df_p"
   ]
  },
  {
   "cell_type": "markdown",
   "metadata": {},
   "source": [
    "# The rest of the code below is to generate the above results"
   ]
  },
  {
   "cell_type": "code",
   "execution_count": null,
   "metadata": {},
   "outputs": [],
   "source": [
    "starter_string = 'FS'\n",
    "scenario_nums = ['0','5','10','15','20']"
   ]
  },
  {
   "cell_type": "code",
   "execution_count": null,
   "metadata": {},
   "outputs": [],
   "source": [
    "df_p = oup.initialize_df(scenario_index=starter_string,\n",
    "                                 scenarios_nums=scenario_nums)"
   ]
  },
  {
   "cell_type": "code",
   "execution_count": null,
   "metadata": {},
   "outputs": [],
   "source": [
    "df_p['Max Pu in all CP'] = 0\n",
    "df_p['Pu Quality in all CP at Max Pu'] = 0\n",
    "df_p['Max Pu in HLW'] = 0\n",
    "df_p['Pu Quality in HLW at Max Pu'] = 0\n",
    "df_p['Max Pu in all RPR'] = 0\n",
    "df_p['Pu Quality in all RPR at Max Pu'] = 0"
   ]
  },
  {
   "cell_type": "code",
   "execution_count": null,
   "metadata": {},
   "outputs": [],
   "source": [
    "output_start = '../cyclus-files/oat/fleet-share/fs'\n",
    "ev_dict = {}\n",
    "for x in range(len(scenario_nums)): \n",
    "    output_file = output_start + scenario_nums[x]+'-exp.sqlite'\n",
    "    ev_dict[scenario_nums[x]] = cym.Evaluator(db=cym.dbopen(output_file),write=True)"
   ]
  },
  {
   "cell_type": "code",
   "execution_count": null,
   "metadata": {},
   "outputs": [],
   "source": [
    "for x in range(len(scenario_nums)): \n",
    "    cp = cym.timeseries.inventories(ev_dict[scenario_nums[x]],facilities=['lwrstorage','moxstorage','frstorage'],nucs=['pu-238','pu-239','pu-240','pu-241','pu-242','pu-244'])['Quantity']\n",
    "    fissile_cp = cym.timeseries.inventories(ev_dict[scenario_nums[x]],facilities=['lwrstorage','moxstorage','frstorage'],nucs=['pu-239','pu-241'])['Quantity']\n",
    "    df_p.loc[scenario_nums[x],'Max Pu in all CP'] = cp.max()\n",
    "    df_p.loc[scenario_nums[x],'Pu Quality in all CP at Max Pu'] = fissile_cp[cp.idxmax()]/cp.max()\n",
    "    hlw = cym.timeseries.inventories(ev_dict[scenario_nums[x]],facilities=['enrichmentsink','lwrsink','moxsink','frsink'],nucs=['pu-238','pu-239','pu-240','pu-241','pu-242','pu-244'])['Quantity']\n",
    "    fissile_hlw = cym.timeseries.inventories(ev_dict[scenario_nums[x]],facilities=['enrichmentsink','lwrsink','moxsink','frsink'],nucs=['pu-239','pu-241'])['Quantity']\n",
    "    df_p.loc[scenario_nums[x],'Max Pu in HLW'] = hlw.max()\n",
    "    df_p.loc[scenario_nums[x],'Pu Quality in HLW at Max Pu'] = fissile_hlw[hlw.idxmax()]/hlw.max()\n",
    "    rpr = cym.timeseries.inventories(ev_dict[scenario_nums[x]],facilities=['lwrreprocessing','moxreprocessing','frreprocessing'],nucs=['pu-238','pu-239','pu-240','pu-241','pu-242','pu-244'])['Quantity']\n",
    "    fissile_rpr = cym.timeseries.inventories(ev_dict[scenario_nums[x]],facilities=['lwrreprocessing','moxreprocessing','frreprocessing'],nucs=['pu-239','pu-241'])['Quantity']\n",
    "    df_p.loc[scenario_nums[x],'Max Pu in all RPR'] = rpr.max()\n",
    "    df_p.loc[scenario_nums[x],'Pu Quality in all RPR at Max Pu'] = fissile_rpr[rpr.idxmax()]/rpr.max()"
   ]
  },
  {
   "cell_type": "code",
   "execution_count": null,
   "metadata": {},
   "outputs": [],
   "source": [
    "df_p.to_csv('fs-df-pu.csv')"
   ]
  },
  {
   "cell_type": "code",
   "execution_count": 6,
   "metadata": {},
   "outputs": [
    {
     "data": {
      "text/html": [
       "<div>\n",
       "<style scoped>\n",
       "    .dataframe tbody tr th:only-of-type {\n",
       "        vertical-align: middle;\n",
       "    }\n",
       "\n",
       "    .dataframe tbody tr th {\n",
       "        vertical-align: top;\n",
       "    }\n",
       "\n",
       "    .dataframe thead th {\n",
       "        text-align: right;\n",
       "    }\n",
       "</style>\n",
       "<table border=\"1\" class=\"dataframe\">\n",
       "  <thead>\n",
       "    <tr style=\"text-align: right;\">\n",
       "      <th></th>\n",
       "      <th>Max Pu in all CP</th>\n",
       "      <th>Pu Quality in all CP at Max Pu</th>\n",
       "      <th>Max Pu in HLW</th>\n",
       "      <th>Pu Quality in HLW at Max Pu</th>\n",
       "      <th>Max Pu in all RPR</th>\n",
       "      <th>Pu Quality in all RPR at Max Pu</th>\n",
       "    </tr>\n",
       "    <tr>\n",
       "      <th>FS</th>\n",
       "      <th></th>\n",
       "      <th></th>\n",
       "      <th></th>\n",
       "      <th></th>\n",
       "      <th></th>\n",
       "      <th></th>\n",
       "    </tr>\n",
       "  </thead>\n",
       "  <tbody>\n",
       "    <tr>\n",
       "      <th>0</th>\n",
       "      <td>-10.147426</td>\n",
       "      <td>10.625314</td>\n",
       "      <td>6.783323</td>\n",
       "      <td>-0.475960</td>\n",
       "      <td>-7.622567</td>\n",
       "      <td>14.052645</td>\n",
       "    </tr>\n",
       "    <tr>\n",
       "      <th>5</th>\n",
       "      <td>-4.220411</td>\n",
       "      <td>4.335579</td>\n",
       "      <td>3.340196</td>\n",
       "      <td>-0.209126</td>\n",
       "      <td>-3.554719</td>\n",
       "      <td>6.566601</td>\n",
       "    </tr>\n",
       "    <tr>\n",
       "      <th>10</th>\n",
       "      <td>-2.134420</td>\n",
       "      <td>2.148294</td>\n",
       "      <td>2.680170</td>\n",
       "      <td>-0.092899</td>\n",
       "      <td>-1.528483</td>\n",
       "      <td>3.349693</td>\n",
       "    </tr>\n",
       "    <tr>\n",
       "      <th>15</th>\n",
       "      <td>0.000000</td>\n",
       "      <td>0.000000</td>\n",
       "      <td>0.000000</td>\n",
       "      <td>0.000000</td>\n",
       "      <td>0.000000</td>\n",
       "      <td>0.000000</td>\n",
       "    </tr>\n",
       "    <tr>\n",
       "      <th>20</th>\n",
       "      <td>2.096501</td>\n",
       "      <td>-2.018603</td>\n",
       "      <td>0.531434</td>\n",
       "      <td>0.125945</td>\n",
       "      <td>2.094170</td>\n",
       "      <td>-2.904799</td>\n",
       "    </tr>\n",
       "  </tbody>\n",
       "</table>\n",
       "</div>"
      ],
      "text/plain": [
       "    Max Pu in all CP  Pu Quality in all CP at Max Pu  Max Pu in HLW  \\\n",
       "FS                                                                    \n",
       "0         -10.147426                       10.625314       6.783323   \n",
       "5          -4.220411                        4.335579       3.340196   \n",
       "10         -2.134420                        2.148294       2.680170   \n",
       "15          0.000000                        0.000000       0.000000   \n",
       "20          2.096501                       -2.018603       0.531434   \n",
       "\n",
       "    Pu Quality in HLW at Max Pu  Max Pu in all RPR  \\\n",
       "FS                                                   \n",
       "0                     -0.475960          -7.622567   \n",
       "5                     -0.209126          -3.554719   \n",
       "10                    -0.092899          -1.528483   \n",
       "15                     0.000000           0.000000   \n",
       "20                     0.125945           2.094170   \n",
       "\n",
       "    Pu Quality in all RPR at Max Pu  \n",
       "FS                                   \n",
       "0                         14.052645  \n",
       "5                          6.566601  \n",
       "10                         3.349693  \n",
       "15                         0.000000  \n",
       "20                        -2.904799  "
      ]
     },
     "execution_count": 6,
     "metadata": {},
     "output_type": "execute_result"
    }
   ],
   "source": [
    "df_p_sa = oup.sensitivity(15,df_p)\n",
    "df_p_sa"
   ]
  },
  {
   "cell_type": "code",
   "execution_count": 5,
   "metadata": {},
   "outputs": [],
   "source": [
    "df_p_sa.to_csv('fs-df-pu-sa.csv')"
   ]
  },
  {
   "cell_type": "code",
   "execution_count": null,
   "metadata": {},
   "outputs": [],
   "source": []
  },
  {
   "cell_type": "code",
   "execution_count": null,
   "metadata": {},
   "outputs": [],
   "source": []
  }
 ],
 "metadata": {
  "kernelspec": {
   "display_name": "Python 3",
   "language": "python",
   "name": "python3"
  },
  "language_info": {
   "codemirror_mode": {
    "name": "ipython",
    "version": 3
   },
   "file_extension": ".py",
   "mimetype": "text/x-python",
   "name": "python",
   "nbconvert_exporter": "python",
   "pygments_lexer": "ipython3",
   "version": "3.6.4"
  }
 },
 "nbformat": 4,
 "nbformat_minor": 2
}
