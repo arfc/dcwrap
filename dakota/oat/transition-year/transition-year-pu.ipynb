{
 "cells": [
  {
   "cell_type": "markdown",
   "metadata": {},
   "source": [
    "** In this Jupyter Notebook, the absolute + sensitivity analysis results are generated for a One-at-a-time sensitivity analysis of transition year for the proliferation risk evaluation metric. The reason why this metric is separated from the others is that you need the -exp version of each sqlite and pyne on your machine to make it work **"
   ]
  },
  {
   "cell_type": "code",
   "execution_count": 1,
   "metadata": {},
   "outputs": [
    {
     "name": "stderr",
     "output_type": "stream",
     "text": [
      "/Users/gwenchee/anaconda3/lib/python3.6/importlib/_bootstrap.py:219: QAWarning: pyne.data is not yet QA compliant.\n",
      "  return f(*args, **kwds)\n",
      "/Users/gwenchee/anaconda3/lib/python3.6/importlib/_bootstrap.py:219: QAWarning: pyne.material is not yet QA compliant.\n",
      "  return f(*args, **kwds)\n",
      "/Users/gwenchee/anaconda3/lib/python3.6/importlib/_bootstrap.py:219: QAWarning: pyne.enrichment is not yet QA compliant.\n",
      "  return f(*args, **kwds)\n"
     ]
    }
   ],
   "source": [
    "import cymetric as cym\n",
    "from cymetric import timeseries\n",
    "import matplotlib as plt \n",
    "import pandas as pd\n",
    "import numpy as np\n",
    "import sys \n",
    "sys.path.insert(0, '../../../scripts/')\n",
    "import output as oup"
   ]
  },
  {
   "cell_type": "markdown",
   "metadata": {},
   "source": [
    "# This is when you already have the results "
   ]
  },
  {
   "cell_type": "code",
   "execution_count": 5,
   "metadata": {},
   "outputs": [
    {
     "data": {
      "text/html": [
       "<div>\n",
       "<style scoped>\n",
       "    .dataframe tbody tr th:only-of-type {\n",
       "        vertical-align: middle;\n",
       "    }\n",
       "\n",
       "    .dataframe tbody tr th {\n",
       "        vertical-align: top;\n",
       "    }\n",
       "\n",
       "    .dataframe thead th {\n",
       "        text-align: right;\n",
       "    }\n",
       "</style>\n",
       "<table border=\"1\" class=\"dataframe\">\n",
       "  <thead>\n",
       "    <tr style=\"text-align: right;\">\n",
       "      <th></th>\n",
       "      <th>Max Pu in all CP</th>\n",
       "      <th>Pu Quality in all CP at Max Pu</th>\n",
       "      <th>Max Pu in HLW</th>\n",
       "      <th>Pu Quality in HLW at Max Pu</th>\n",
       "      <th>Max Pu in all RPR</th>\n",
       "      <th>Pu Quality in all RPR at Max Pu</th>\n",
       "    </tr>\n",
       "    <tr>\n",
       "      <th>TY</th>\n",
       "      <th></th>\n",
       "      <th></th>\n",
       "      <th></th>\n",
       "      <th></th>\n",
       "      <th></th>\n",
       "      <th></th>\n",
       "    </tr>\n",
       "  </thead>\n",
       "  <tbody>\n",
       "    <tr>\n",
       "      <th>960</th>\n",
       "      <td>285794.85</td>\n",
       "      <td>0.59</td>\n",
       "      <td>42905.59</td>\n",
       "      <td>0.62</td>\n",
       "      <td>2552142.82</td>\n",
       "      <td>0.48</td>\n",
       "    </tr>\n",
       "    <tr>\n",
       "      <th>972</th>\n",
       "      <td>269666.80</td>\n",
       "      <td>0.60</td>\n",
       "      <td>44291.11</td>\n",
       "      <td>0.62</td>\n",
       "      <td>2530146.38</td>\n",
       "      <td>0.48</td>\n",
       "    </tr>\n",
       "    <tr>\n",
       "      <th>984</th>\n",
       "      <td>273313.41</td>\n",
       "      <td>0.60</td>\n",
       "      <td>45673.72</td>\n",
       "      <td>0.62</td>\n",
       "      <td>2489776.12</td>\n",
       "      <td>0.48</td>\n",
       "    </tr>\n",
       "    <tr>\n",
       "      <th>996</th>\n",
       "      <td>273307.72</td>\n",
       "      <td>0.59</td>\n",
       "      <td>46848.37</td>\n",
       "      <td>0.62</td>\n",
       "      <td>2475855.63</td>\n",
       "      <td>0.48</td>\n",
       "    </tr>\n",
       "    <tr>\n",
       "      <th>1008</th>\n",
       "      <td>269414.41</td>\n",
       "      <td>0.60</td>\n",
       "      <td>46714.21</td>\n",
       "      <td>0.62</td>\n",
       "      <td>2455878.54</td>\n",
       "      <td>0.48</td>\n",
       "    </tr>\n",
       "  </tbody>\n",
       "</table>\n",
       "</div>"
      ],
      "text/plain": [
       "      Max Pu in all CP  Pu Quality in all CP at Max Pu  Max Pu in HLW  \\\n",
       "TY                                                                      \n",
       "960          285794.85                            0.59       42905.59   \n",
       "972          269666.80                            0.60       44291.11   \n",
       "984          273313.41                            0.60       45673.72   \n",
       "996          273307.72                            0.59       46848.37   \n",
       "1008         269414.41                            0.60       46714.21   \n",
       "\n",
       "      Pu Quality in HLW at Max Pu  Max Pu in all RPR  \\\n",
       "TY                                                     \n",
       "960                          0.62         2552142.82   \n",
       "972                          0.62         2530146.38   \n",
       "984                          0.62         2489776.12   \n",
       "996                          0.62         2475855.63   \n",
       "1008                         0.62         2455878.54   \n",
       "\n",
       "      Pu Quality in all RPR at Max Pu  \n",
       "TY                                     \n",
       "960                              0.48  \n",
       "972                              0.48  \n",
       "984                              0.48  \n",
       "996                              0.48  \n",
       "1008                             0.48  "
      ]
     },
     "execution_count": 5,
     "metadata": {},
     "output_type": "execute_result"
    }
   ],
   "source": [
    "df_p = pd.read_csv('ty-df-pu.csv',index_col='TY')\n",
    "df_p"
   ]
  },
  {
   "cell_type": "markdown",
   "metadata": {},
   "source": [
    "# The rest of the code below is to generate the above results"
   ]
  },
  {
   "cell_type": "code",
   "execution_count": 3,
   "metadata": {},
   "outputs": [],
   "source": [
    "starter_string = 'TY'\n",
    "scenario_nums = ['960','972','984','996','1008']"
   ]
  },
  {
   "cell_type": "code",
   "execution_count": 4,
   "metadata": {},
   "outputs": [],
   "source": [
    "df_p = oup.initialize_df(scenario_index=starter_string,\n",
    "                                 scenarios_nums=scenario_nums)"
   ]
  },
  {
   "cell_type": "code",
   "execution_count": null,
   "metadata": {},
   "outputs": [],
   "source": [
    "df_p['Final HLW'] = 0\n",
    "df_p['Final Depleted U'] = 0 \n",
    "df_p['Total uranium ore'] = 0\n",
    "df_p['Total idle capacity'] = 0\n",
    "df_p['Last date idle capacity'] = 0\n",
    "df_p['Duration of transition'] = 0"
   ]
  },
  {
   "cell_type": "code",
   "execution_count": null,
   "metadata": {},
   "outputs": [],
   "source": [
    "output_start = '../cyclus-files/oat/transition-year/ty'\n",
    "ev_dict = {}\n",
    "for x in range(len(scenario_nums)): \n",
    "    output_file = output_start + scenario_nums[x]+'-exp.sqlite'\n",
    "    ev_dict[scenario_nums[x]] = cym.Evaluator(db=cym.dbopen(output_file),write=True)"
   ]
  },
  {
   "cell_type": "code",
   "execution_count": null,
   "metadata": {},
   "outputs": [],
   "source": [
    "for x in range(len(scenario_nums)): \n",
    "    cp = cym.timeseries.inventories(ev_dict[scenario_nums[x]],facilities=['lwrstorage','moxstorage','frstorage'],nucs=['pu-238','pu-239','pu-240','pu-241','pu-242','pu-244'])['Quantity']\n",
    "    fissile_cp = cym.timeseries.inventories(ev_dict[scenario_nums[x]],facilities=['lwrstorage','moxstorage','frstorage'],nucs=['pu-239','pu-241'])['Quantity']\n",
    "    df_p.loc[scenario_nums[x],'Max Pu in all CP'] = cp.max()\n",
    "    df_p.loc[scenario_nums[x],'Pu Quality in all CP at Max Pu'] = fissile_cp[cp.idxmax()]/cp.max()\n",
    "    hlw = cym.timeseries.inventories(ev_dict[scenario_nums[x]],facilities=['enrichmentsink','lwrsink','moxsink','frsink'],nucs=['pu-238','pu-239','pu-240','pu-241','pu-242','pu-244'])['Quantity']\n",
    "    fissile_hlw = cym.timeseries.inventories(ev_dict[scenario_nums[x]],facilities=['enrichmentsink','lwrsink','moxsink','frsink'],nucs=['pu-239','pu-241'])['Quantity']\n",
    "    df_p.loc[scenario_nums[x],'Max Pu in HLW'] = hlw.max()\n",
    "    df_p.loc[scenario_nums[x],'Pu Quality in HLW at Max Pu'] = fissile_hlw[hlw.idxmax()]/hlw.max()\n",
    "    rpr = cym.timeseries.inventories(ev_dict[scenario_nums[x]],facilities=['lwrreprocessing','moxreprocessing','frreprocessing'],nucs=['pu-238','pu-239','pu-240','pu-241','pu-242','pu-244'])['Quantity']\n",
    "    fissile_rpr = cym.timeseries.inventories(ev_dict[scenario_nums[x]],facilities=['lwrreprocessing','moxreprocessing','frreprocessing'],nucs=['pu-239','pu-241'])['Quantity']\n",
    "    df_p.loc[scenario_nums[x],'Max Pu in all RPR'] = rpr.max()\n",
    "    df_p.loc[scenario_nums[x],'Pu Quality in all RPR at Max Pu'] = fissile_rpr[rpr.idxmax()]/rpr.max()"
   ]
  },
  {
   "cell_type": "code",
   "execution_count": null,
   "metadata": {},
   "outputs": [],
   "source": [
    "df_p.to_csv('ty-df-pu.csv')"
   ]
  },
  {
   "cell_type": "code",
   "execution_count": 6,
   "metadata": {},
   "outputs": [
    {
     "data": {
      "text/html": [
       "<div>\n",
       "<style scoped>\n",
       "    .dataframe tbody tr th:only-of-type {\n",
       "        vertical-align: middle;\n",
       "    }\n",
       "\n",
       "    .dataframe tbody tr th {\n",
       "        vertical-align: top;\n",
       "    }\n",
       "\n",
       "    .dataframe thead th {\n",
       "        text-align: right;\n",
       "    }\n",
       "</style>\n",
       "<table border=\"1\" class=\"dataframe\">\n",
       "  <thead>\n",
       "    <tr style=\"text-align: right;\">\n",
       "      <th></th>\n",
       "      <th>Max Pu in all CP</th>\n",
       "      <th>Pu Quality in all CP at Max Pu</th>\n",
       "      <th>Max Pu in HLW</th>\n",
       "      <th>Pu Quality in HLW at Max Pu</th>\n",
       "      <th>Max Pu in all RPR</th>\n",
       "      <th>Pu Quality in all RPR at Max Pu</th>\n",
       "    </tr>\n",
       "    <tr>\n",
       "      <th>TY</th>\n",
       "      <th></th>\n",
       "      <th></th>\n",
       "      <th></th>\n",
       "      <th></th>\n",
       "      <th></th>\n",
       "      <th></th>\n",
       "    </tr>\n",
       "  </thead>\n",
       "  <tbody>\n",
       "    <tr>\n",
       "      <th>960</th>\n",
       "      <td>0.000000</td>\n",
       "      <td>0.000000</td>\n",
       "      <td>0.000000</td>\n",
       "      <td>0.0</td>\n",
       "      <td>0.000000</td>\n",
       "      <td>0.0</td>\n",
       "    </tr>\n",
       "    <tr>\n",
       "      <th>972</th>\n",
       "      <td>-5.643226</td>\n",
       "      <td>1.694915</td>\n",
       "      <td>3.229230</td>\n",
       "      <td>0.0</td>\n",
       "      <td>-0.861881</td>\n",
       "      <td>0.0</td>\n",
       "    </tr>\n",
       "    <tr>\n",
       "      <th>984</th>\n",
       "      <td>-4.367273</td>\n",
       "      <td>1.694915</td>\n",
       "      <td>6.451677</td>\n",
       "      <td>0.0</td>\n",
       "      <td>-2.443699</td>\n",
       "      <td>0.0</td>\n",
       "    </tr>\n",
       "    <tr>\n",
       "      <th>996</th>\n",
       "      <td>-4.369263</td>\n",
       "      <td>0.000000</td>\n",
       "      <td>9.189432</td>\n",
       "      <td>0.0</td>\n",
       "      <td>-2.989143</td>\n",
       "      <td>0.0</td>\n",
       "    </tr>\n",
       "    <tr>\n",
       "      <th>1008</th>\n",
       "      <td>-5.731538</td>\n",
       "      <td>1.694915</td>\n",
       "      <td>8.876745</td>\n",
       "      <td>0.0</td>\n",
       "      <td>-3.771900</td>\n",
       "      <td>0.0</td>\n",
       "    </tr>\n",
       "  </tbody>\n",
       "</table>\n",
       "</div>"
      ],
      "text/plain": [
       "      Max Pu in all CP  Pu Quality in all CP at Max Pu  Max Pu in HLW  \\\n",
       "TY                                                                      \n",
       "960           0.000000                        0.000000       0.000000   \n",
       "972          -5.643226                        1.694915       3.229230   \n",
       "984          -4.367273                        1.694915       6.451677   \n",
       "996          -4.369263                        0.000000       9.189432   \n",
       "1008         -5.731538                        1.694915       8.876745   \n",
       "\n",
       "      Pu Quality in HLW at Max Pu  Max Pu in all RPR  \\\n",
       "TY                                                     \n",
       "960                           0.0           0.000000   \n",
       "972                           0.0          -0.861881   \n",
       "984                           0.0          -2.443699   \n",
       "996                           0.0          -2.989143   \n",
       "1008                          0.0          -3.771900   \n",
       "\n",
       "      Pu Quality in all RPR at Max Pu  \n",
       "TY                                     \n",
       "960                               0.0  \n",
       "972                               0.0  \n",
       "984                               0.0  \n",
       "996                               0.0  \n",
       "1008                              0.0  "
      ]
     },
     "execution_count": 6,
     "metadata": {},
     "output_type": "execute_result"
    }
   ],
   "source": [
    "df_p_sa = oup.sensitivity(960,df_p)\n",
    "df_p_sa"
   ]
  },
  {
   "cell_type": "code",
   "execution_count": 7,
   "metadata": {},
   "outputs": [],
   "source": [
    "df_p_sa.to_csv('ty-df-pu-sa.csv')"
   ]
  },
  {
   "cell_type": "code",
   "execution_count": null,
   "metadata": {},
   "outputs": [],
   "source": []
  }
 ],
 "metadata": {
  "kernelspec": {
   "display_name": "Python 3",
   "language": "python",
   "name": "python3"
  },
  "language_info": {
   "codemirror_mode": {
    "name": "ipython",
    "version": 3
   },
   "file_extension": ".py",
   "mimetype": "text/x-python",
   "name": "python",
   "nbconvert_exporter": "python",
   "pygments_lexer": "ipython3",
   "version": "3.6.4"
  }
 },
 "nbformat": 4,
 "nbformat_minor": 2
}
