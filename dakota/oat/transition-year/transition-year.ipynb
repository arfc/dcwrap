{
 "cells": [
  {
   "cell_type": "code",
   "execution_count": 3,
   "metadata": {},
   "outputs": [],
   "source": [
    "import cymetric as cym\n",
    "from cymetric import timeseries\n",
    "import matplotlib as plt \n",
    "import pandas as pd\n",
    "import numpy as np\n",
    "import sys \n",
    "sys.path.insert(0, '../../../scripts/')\n",
    "import output as oup"
   ]
  },
  {
   "cell_type": "markdown",
   "metadata": {},
   "source": [
    "# This is when you already have the results "
   ]
  },
  {
   "cell_type": "code",
   "execution_count": 4,
   "metadata": {},
   "outputs": [
    {
     "data": {
      "text/html": [
       "<div>\n",
       "<style scoped>\n",
       "    .dataframe tbody tr th:only-of-type {\n",
       "        vertical-align: middle;\n",
       "    }\n",
       "\n",
       "    .dataframe tbody tr th {\n",
       "        vertical-align: top;\n",
       "    }\n",
       "\n",
       "    .dataframe thead th {\n",
       "        text-align: right;\n",
       "    }\n",
       "</style>\n",
       "<table border=\"1\" class=\"dataframe\">\n",
       "  <thead>\n",
       "    <tr style=\"text-align: right;\">\n",
       "      <th></th>\n",
       "      <th>Final HLW</th>\n",
       "      <th>Final Depleted U</th>\n",
       "      <th>Total uranium ore</th>\n",
       "      <th>Total idle capacity</th>\n",
       "      <th>Last date idle capacity</th>\n",
       "      <th>Duration of transition</th>\n",
       "    </tr>\n",
       "    <tr>\n",
       "      <th>TY</th>\n",
       "      <th></th>\n",
       "      <th></th>\n",
       "      <th></th>\n",
       "      <th></th>\n",
       "      <th></th>\n",
       "      <th></th>\n",
       "    </tr>\n",
       "  </thead>\n",
       "  <tbody>\n",
       "    <tr>\n",
       "      <td>960</td>\n",
       "      <td>1.295955e+07</td>\n",
       "      <td>7.988186e+08</td>\n",
       "      <td>1.437000e+11</td>\n",
       "      <td>135.083333</td>\n",
       "      <td>962</td>\n",
       "      <td>2</td>\n",
       "    </tr>\n",
       "    <tr>\n",
       "      <td>972</td>\n",
       "      <td>1.306918e+07</td>\n",
       "      <td>7.988186e+08</td>\n",
       "      <td>1.437000e+11</td>\n",
       "      <td>120.937493</td>\n",
       "      <td>972</td>\n",
       "      <td>0</td>\n",
       "    </tr>\n",
       "    <tr>\n",
       "      <td>984</td>\n",
       "      <td>1.322018e+07</td>\n",
       "      <td>8.033326e+08</td>\n",
       "      <td>1.437000e+11</td>\n",
       "      <td>121.104160</td>\n",
       "      <td>980</td>\n",
       "      <td>0</td>\n",
       "    </tr>\n",
       "    <tr>\n",
       "      <td>996</td>\n",
       "      <td>1.336003e+07</td>\n",
       "      <td>8.078466e+08</td>\n",
       "      <td>1.437000e+11</td>\n",
       "      <td>121.104160</td>\n",
       "      <td>980</td>\n",
       "      <td>0</td>\n",
       "    </tr>\n",
       "    <tr>\n",
       "      <td>1008</td>\n",
       "      <td>1.333709e+07</td>\n",
       "      <td>8.078466e+08</td>\n",
       "      <td>1.437000e+11</td>\n",
       "      <td>121.104160</td>\n",
       "      <td>980</td>\n",
       "      <td>0</td>\n",
       "    </tr>\n",
       "  </tbody>\n",
       "</table>\n",
       "</div>"
      ],
      "text/plain": [
       "         Final HLW  Final Depleted U  Total uranium ore  Total idle capacity  \\\n",
       "TY                                                                             \n",
       "960   1.295955e+07      7.988186e+08       1.437000e+11           135.083333   \n",
       "972   1.306918e+07      7.988186e+08       1.437000e+11           120.937493   \n",
       "984   1.322018e+07      8.033326e+08       1.437000e+11           121.104160   \n",
       "996   1.336003e+07      8.078466e+08       1.437000e+11           121.104160   \n",
       "1008  1.333709e+07      8.078466e+08       1.437000e+11           121.104160   \n",
       "\n",
       "      Last date idle capacity  Duration of transition  \n",
       "TY                                                     \n",
       "960                       962                       2  \n",
       "972                       972                       0  \n",
       "984                       980                       0  \n",
       "996                       980                       0  \n",
       "1008                      980                       0  "
      ]
     },
     "execution_count": 4,
     "metadata": {},
     "output_type": "execute_result"
    }
   ],
   "source": [
    "df = pd.read_csv('ty-df.csv',index_col='TY')\n",
    "df"
   ]
  },
  {
   "cell_type": "markdown",
   "metadata": {},
   "source": [
    "# The rest of the code below is to generate the above results"
   ]
  },
  {
   "cell_type": "code",
   "execution_count": 5,
   "metadata": {},
   "outputs": [],
   "source": [
    "starter_string = 'TY'\n",
    "scenario_nums = ['960','972','984','996','1008']"
   ]
  },
  {
   "cell_type": "code",
   "execution_count": null,
   "metadata": {},
   "outputs": [],
   "source": [
    "df = oup.initialize_df(scenario_index=starter_string,\n",
    "                                 scenarios_nums=scenario_nums)"
   ]
  },
  {
   "cell_type": "code",
   "execution_count": null,
   "metadata": {},
   "outputs": [],
   "source": [
    "df['Final HLW'] = 0\n",
    "df['Final Depleted U'] = 0 \n",
    "df['Total uranium ore'] = 0\n",
    "df['Total idle capacity'] = 0\n",
    "df['Last date idle capacity'] = 0\n",
    "df['Duration of transition'] = 0"
   ]
  },
  {
   "cell_type": "code",
   "execution_count": null,
   "metadata": {},
   "outputs": [],
   "source": [
    "# Before this is run, you must make sure all the ty_.sqlite files are in the output_start folder. This is done by downloading them from my\n",
    "# ms-thesis box OR running the transition year cooling time dakota input file. \n",
    "output_start = '../cyclus-files/oat/transition-year/ty'\n",
    "ev_dict = {}\n",
    "for x in range(len(scenario_nums)): \n",
    "    output_file = output_start + scenario_nums[x]+'.sqlite'\n",
    "    ev_dict[scenario_nums[x]] = cym.Evaluator(db=cym.dbopen(output_file),write=True)"
   ]
  },
  {
   "cell_type": "code",
   "execution_count": null,
   "metadata": {},
   "outputs": [],
   "source": [
    "for x in range(5):#(len(scenario_nums)): \n",
    "    df.loc[scenario_nums[x],'Final HLW'] = cym.timeseries.transactions(ev_dict[scenario_nums[x]],commodities=['lwrreprocessingwaste','moxreprocessingwaste','frreprocessingwaste'])['Mass'].cumsum().iloc[-1]\n",
    "    df.loc[scenario_nums[x],'Final Depleted U'] = cym.timeseries.transactions(ev_dict[scenario_nums[x]],commodities=['enrichmentwaste'])['Mass'].cumsum().max()\n",
    "    df.loc[scenario_nums[x],'Total uranium ore'] = cym.timeseries.transactions(ev_dict[scenario_nums[x]],commodities=['sourceout'])['Mass'].cumsum().max()\n",
    "    df.loc[scenario_nums[x],'Total idle capacity'], df.loc[scenario_nums[x],'Last date idle capacity'], udict = oup.idlecap(ev_dict[scenario_nums[x]],'(60000+250*t/12)/1000')\n",
    "    df.loc[scenario_nums[x],'Duration of transition'] = df.loc[scenario_nums[x],'Last date idle capacity'] - int(scenario_nums[x])\n",
    "    "
   ]
  },
  {
   "cell_type": "code",
   "execution_count": null,
   "metadata": {},
   "outputs": [],
   "source": [
    "df.to_csv('ty-df.csv')"
   ]
  },
  {
   "cell_type": "code",
   "execution_count": 6,
   "metadata": {},
   "outputs": [
    {
     "data": {
      "text/html": [
       "<div>\n",
       "<style scoped>\n",
       "    .dataframe tbody tr th:only-of-type {\n",
       "        vertical-align: middle;\n",
       "    }\n",
       "\n",
       "    .dataframe tbody tr th {\n",
       "        vertical-align: top;\n",
       "    }\n",
       "\n",
       "    .dataframe thead th {\n",
       "        text-align: right;\n",
       "    }\n",
       "</style>\n",
       "<table border=\"1\" class=\"dataframe\">\n",
       "  <thead>\n",
       "    <tr style=\"text-align: right;\">\n",
       "      <th></th>\n",
       "      <th>Final HLW</th>\n",
       "      <th>Final Depleted U</th>\n",
       "      <th>Total uranium ore</th>\n",
       "      <th>Total idle capacity</th>\n",
       "      <th>Last date idle capacity</th>\n",
       "      <th>Duration of transition</th>\n",
       "    </tr>\n",
       "    <tr>\n",
       "      <th>TY</th>\n",
       "      <th></th>\n",
       "      <th></th>\n",
       "      <th></th>\n",
       "      <th></th>\n",
       "      <th></th>\n",
       "      <th></th>\n",
       "    </tr>\n",
       "  </thead>\n",
       "  <tbody>\n",
       "    <tr>\n",
       "      <td>960</td>\n",
       "      <td>0.000000</td>\n",
       "      <td>0.000000</td>\n",
       "      <td>0.0</td>\n",
       "      <td>0.000000</td>\n",
       "      <td>0.000000</td>\n",
       "      <td>0.0</td>\n",
       "    </tr>\n",
       "    <tr>\n",
       "      <td>972</td>\n",
       "      <td>0.845881</td>\n",
       "      <td>0.000000</td>\n",
       "      <td>0.0</td>\n",
       "      <td>-10.471936</td>\n",
       "      <td>1.039501</td>\n",
       "      <td>-100.0</td>\n",
       "    </tr>\n",
       "    <tr>\n",
       "      <td>984</td>\n",
       "      <td>2.011098</td>\n",
       "      <td>0.565086</td>\n",
       "      <td>0.0</td>\n",
       "      <td>-10.348555</td>\n",
       "      <td>1.871102</td>\n",
       "      <td>-100.0</td>\n",
       "    </tr>\n",
       "    <tr>\n",
       "      <td>996</td>\n",
       "      <td>3.090223</td>\n",
       "      <td>1.130172</td>\n",
       "      <td>0.0</td>\n",
       "      <td>-10.348555</td>\n",
       "      <td>1.871102</td>\n",
       "      <td>-100.0</td>\n",
       "    </tr>\n",
       "    <tr>\n",
       "      <td>1008</td>\n",
       "      <td>2.913157</td>\n",
       "      <td>1.130172</td>\n",
       "      <td>0.0</td>\n",
       "      <td>-10.348555</td>\n",
       "      <td>1.871102</td>\n",
       "      <td>-100.0</td>\n",
       "    </tr>\n",
       "  </tbody>\n",
       "</table>\n",
       "</div>"
      ],
      "text/plain": [
       "      Final HLW  Final Depleted U  Total uranium ore  Total idle capacity  \\\n",
       "TY                                                                          \n",
       "960    0.000000          0.000000                0.0             0.000000   \n",
       "972    0.845881          0.000000                0.0           -10.471936   \n",
       "984    2.011098          0.565086                0.0           -10.348555   \n",
       "996    3.090223          1.130172                0.0           -10.348555   \n",
       "1008   2.913157          1.130172                0.0           -10.348555   \n",
       "\n",
       "      Last date idle capacity  Duration of transition  \n",
       "TY                                                     \n",
       "960                  0.000000                     0.0  \n",
       "972                  1.039501                  -100.0  \n",
       "984                  1.871102                  -100.0  \n",
       "996                  1.871102                  -100.0  \n",
       "1008                 1.871102                  -100.0  "
      ]
     },
     "execution_count": 6,
     "metadata": {},
     "output_type": "execute_result"
    }
   ],
   "source": [
    "df_ty_sa = oup.sensitivity(base_case=960,init_df=df)\n",
    "df_ty_sa"
   ]
  },
  {
   "cell_type": "code",
   "execution_count": 7,
   "metadata": {},
   "outputs": [],
   "source": [
    "df_ty_sa.to_csv('ty-df-sa.csv')"
   ]
  },
  {
   "cell_type": "code",
   "execution_count": null,
   "metadata": {},
   "outputs": [],
   "source": []
  }
 ],
 "metadata": {
  "kernelspec": {
   "display_name": "Python 3",
   "language": "python",
   "name": "python3"
  },
  "language_info": {
   "codemirror_mode": {
    "name": "ipython",
    "version": 3
   },
   "file_extension": ".py",
   "mimetype": "text/x-python",
   "name": "python",
   "nbconvert_exporter": "python",
   "pygments_lexer": "ipython3",
   "version": "3.6.4"
  }
 },
 "nbformat": 4,
 "nbformat_minor": 4
}
