{
 "cells": [
  {
   "cell_type": "code",
   "execution_count": 1,
   "metadata": {},
   "outputs": [],
   "source": [
    "import cymetric as cym\n",
    "from cymetric import timeseries\n",
    "import matplotlib as plt \n",
    "import pandas as pd\n",
    "import numpy as np\n",
    "import sys \n",
    "sys.path.insert(0, '../../../scripts/')\n",
    "import output as oup"
   ]
  },
  {
   "cell_type": "markdown",
   "metadata": {},
   "source": [
    "# This is when you already have the results "
   ]
  },
  {
   "cell_type": "code",
   "execution_count": 6,
   "metadata": {},
   "outputs": [
    {
     "data": {
      "text/html": [
       "<div>\n",
       "<style scoped>\n",
       "    .dataframe tbody tr th:only-of-type {\n",
       "        vertical-align: middle;\n",
       "    }\n",
       "\n",
       "    .dataframe tbody tr th {\n",
       "        vertical-align: top;\n",
       "    }\n",
       "\n",
       "    .dataframe thead th {\n",
       "        text-align: right;\n",
       "    }\n",
       "</style>\n",
       "<table border=\"1\" class=\"dataframe\">\n",
       "  <thead>\n",
       "    <tr style=\"text-align: right;\">\n",
       "      <th></th>\n",
       "      <th>Final HLW</th>\n",
       "      <th>Final Depleted U</th>\n",
       "      <th>Total uranium ore</th>\n",
       "      <th>Total idle capacity</th>\n",
       "      <th>Last date idle capacity</th>\n",
       "      <th>Duration of transition</th>\n",
       "    </tr>\n",
       "    <tr>\n",
       "      <th>CT</th>\n",
       "      <th></th>\n",
       "      <th></th>\n",
       "      <th></th>\n",
       "      <th></th>\n",
       "      <th></th>\n",
       "      <th></th>\n",
       "    </tr>\n",
       "  </thead>\n",
       "  <tbody>\n",
       "    <tr>\n",
       "      <td>0</td>\n",
       "      <td>1.322383e+07</td>\n",
       "      <td>7.988186e+08</td>\n",
       "      <td>143700000000</td>\n",
       "      <td>135.083333</td>\n",
       "      <td>962</td>\n",
       "      <td>2</td>\n",
       "    </tr>\n",
       "    <tr>\n",
       "      <td>2</td>\n",
       "      <td>1.307326e+07</td>\n",
       "      <td>7.988186e+08</td>\n",
       "      <td>143700000000</td>\n",
       "      <td>135.083333</td>\n",
       "      <td>962</td>\n",
       "      <td>2</td>\n",
       "    </tr>\n",
       "    <tr>\n",
       "      <td>4</td>\n",
       "      <td>1.290606e+07</td>\n",
       "      <td>7.988186e+08</td>\n",
       "      <td>143700000000</td>\n",
       "      <td>135.083333</td>\n",
       "      <td>962</td>\n",
       "      <td>2</td>\n",
       "    </tr>\n",
       "    <tr>\n",
       "      <td>6</td>\n",
       "      <td>1.279568e+07</td>\n",
       "      <td>7.988186e+08</td>\n",
       "      <td>143700000000</td>\n",
       "      <td>135.083333</td>\n",
       "      <td>962</td>\n",
       "      <td>2</td>\n",
       "    </tr>\n",
       "    <tr>\n",
       "      <td>8</td>\n",
       "      <td>1.272653e+07</td>\n",
       "      <td>7.988186e+08</td>\n",
       "      <td>143700000000</td>\n",
       "      <td>135.083333</td>\n",
       "      <td>962</td>\n",
       "      <td>2</td>\n",
       "    </tr>\n",
       "  </tbody>\n",
       "</table>\n",
       "</div>"
      ],
      "text/plain": [
       "       Final HLW  Final Depleted U  Total uranium ore  Total idle capacity  \\\n",
       "CT                                                                           \n",
       "0   1.322383e+07      7.988186e+08       143700000000           135.083333   \n",
       "2   1.307326e+07      7.988186e+08       143700000000           135.083333   \n",
       "4   1.290606e+07      7.988186e+08       143700000000           135.083333   \n",
       "6   1.279568e+07      7.988186e+08       143700000000           135.083333   \n",
       "8   1.272653e+07      7.988186e+08       143700000000           135.083333   \n",
       "\n",
       "    Last date idle capacity  Duration of transition  \n",
       "CT                                                   \n",
       "0                       962                       2  \n",
       "2                       962                       2  \n",
       "4                       962                       2  \n",
       "6                       962                       2  \n",
       "8                       962                       2  "
      ]
     },
     "execution_count": 6,
     "metadata": {},
     "output_type": "execute_result"
    }
   ],
   "source": [
    "df = pd.read_csv('ct-df.csv',index_col='CT')\n",
    "df"
   ]
  },
  {
   "cell_type": "markdown",
   "metadata": {},
   "source": [
    "# The rest of the code below is to generate the above results"
   ]
  },
  {
   "cell_type": "code",
   "execution_count": null,
   "metadata": {},
   "outputs": [],
   "source": [
    "starter_string = 'CT'\n",
    "scenario_nums = ['0','1','2','3','4','5','6','7','8']"
   ]
  },
  {
   "cell_type": "code",
   "execution_count": null,
   "metadata": {},
   "outputs": [],
   "source": [
    "df = oup.initialize_df(scenario_index=starter_string,\n",
    "                                 scenarios_nums=scenario_nums)"
   ]
  },
  {
   "cell_type": "code",
   "execution_count": null,
   "metadata": {},
   "outputs": [],
   "source": [
    "df['Final HLW'] = 0\n",
    "df['Final Depleted U'] = 0 \n",
    "df['Total uranium ore'] = 0\n",
    "df['Total idle capacity'] = 0\n",
    "df['Last date idle capacity'] = 0\n",
    "df['Duration of transition'] = 0"
   ]
  },
  {
   "cell_type": "code",
   "execution_count": null,
   "metadata": {},
   "outputs": [],
   "source": [
    "output_start = '../cyclus-files/oat/cooling-time/ct'\n",
    "ev_dict = {}\n",
    "for x in range(len(scenario_nums)): \n",
    "    output_file = output_start + scenario_nums[x]+'.sqlite'\n",
    "    ev_dict[scenario_nums[x]] = cym.Evaluator(db=cym.dbopen(output_file),write=True)"
   ]
  },
  {
   "cell_type": "code",
   "execution_count": null,
   "metadata": {},
   "outputs": [],
   "source": [
    "for x in range(9):#(len(scenario_nums)): \n",
    "    df.loc[scenario_nums[x],'Final HLW'] = cym.timeseries.transactions(ev_dict[scenario_nums[x]],commodities=['lwrreprocessingwaste','moxreprocessingwaste','frreprocessingwaste'])['Mass'].cumsum().iloc[-1]\n",
    "    df.loc[scenario_nums[x],'Final Depleted U'] = cym.timeseries.transactions(ev_dict[scenario_nums[x]],commodities=['enrichmentwaste'])['Mass'].cumsum().max()\n",
    "    df.loc[scenario_nums[x],'Total uranium ore'] = cym.timeseries.transactions(ev_dict[scenario_nums[x]],commodities=['sourceout'])['Mass'].cumsum().max()\n",
    "    df.loc[scenario_nums[x],'Total idle capacity'], df.loc[scenario_nums[x],'Last date idle capacity'], udict = idlecap(ev_dict[scenario_nums[x]],'(60000+250*t/12)/1000')\n",
    "    df.loc[scenario_nums[x],'Duration of transition'] = df.loc[scenario_nums[x],'Last date idle capacity'] - 960\n",
    "    "
   ]
  },
  {
   "cell_type": "code",
   "execution_count": null,
   "metadata": {},
   "outputs": [],
   "source": [
    "df.to_csv('ct-df.csv')"
   ]
  },
  {
   "cell_type": "code",
   "execution_count": 7,
   "metadata": {},
   "outputs": [
    {
     "data": {
      "text/html": [
       "<div>\n",
       "<style scoped>\n",
       "    .dataframe tbody tr th:only-of-type {\n",
       "        vertical-align: middle;\n",
       "    }\n",
       "\n",
       "    .dataframe tbody tr th {\n",
       "        vertical-align: top;\n",
       "    }\n",
       "\n",
       "    .dataframe thead th {\n",
       "        text-align: right;\n",
       "    }\n",
       "</style>\n",
       "<table border=\"1\" class=\"dataframe\">\n",
       "  <thead>\n",
       "    <tr style=\"text-align: right;\">\n",
       "      <th></th>\n",
       "      <th>Final HLW</th>\n",
       "      <th>Final Depleted U</th>\n",
       "      <th>Total uranium ore</th>\n",
       "      <th>Total idle capacity</th>\n",
       "      <th>Last date idle capacity</th>\n",
       "      <th>Duration of transition</th>\n",
       "    </tr>\n",
       "    <tr>\n",
       "      <th>CT</th>\n",
       "      <th></th>\n",
       "      <th></th>\n",
       "      <th></th>\n",
       "      <th></th>\n",
       "      <th></th>\n",
       "      <th></th>\n",
       "    </tr>\n",
       "  </thead>\n",
       "  <tbody>\n",
       "    <tr>\n",
       "      <td>0</td>\n",
       "      <td>1.151716</td>\n",
       "      <td>0.0</td>\n",
       "      <td>0.0</td>\n",
       "      <td>0.0</td>\n",
       "      <td>0.0</td>\n",
       "      <td>0.0</td>\n",
       "    </tr>\n",
       "    <tr>\n",
       "      <td>2</td>\n",
       "      <td>0.000000</td>\n",
       "      <td>0.0</td>\n",
       "      <td>0.0</td>\n",
       "      <td>0.0</td>\n",
       "      <td>0.0</td>\n",
       "      <td>0.0</td>\n",
       "    </tr>\n",
       "    <tr>\n",
       "      <td>4</td>\n",
       "      <td>-1.278968</td>\n",
       "      <td>0.0</td>\n",
       "      <td>0.0</td>\n",
       "      <td>0.0</td>\n",
       "      <td>0.0</td>\n",
       "      <td>0.0</td>\n",
       "    </tr>\n",
       "    <tr>\n",
       "      <td>6</td>\n",
       "      <td>-2.123255</td>\n",
       "      <td>0.0</td>\n",
       "      <td>0.0</td>\n",
       "      <td>0.0</td>\n",
       "      <td>0.0</td>\n",
       "      <td>0.0</td>\n",
       "    </tr>\n",
       "    <tr>\n",
       "      <td>8</td>\n",
       "      <td>-2.652228</td>\n",
       "      <td>0.0</td>\n",
       "      <td>0.0</td>\n",
       "      <td>0.0</td>\n",
       "      <td>0.0</td>\n",
       "      <td>0.0</td>\n",
       "    </tr>\n",
       "  </tbody>\n",
       "</table>\n",
       "</div>"
      ],
      "text/plain": [
       "    Final HLW  Final Depleted U  Total uranium ore  Total idle capacity  \\\n",
       "CT                                                                        \n",
       "0    1.151716               0.0                0.0                  0.0   \n",
       "2    0.000000               0.0                0.0                  0.0   \n",
       "4   -1.278968               0.0                0.0                  0.0   \n",
       "6   -2.123255               0.0                0.0                  0.0   \n",
       "8   -2.652228               0.0                0.0                  0.0   \n",
       "\n",
       "    Last date idle capacity  Duration of transition  \n",
       "CT                                                   \n",
       "0                       0.0                     0.0  \n",
       "2                       0.0                     0.0  \n",
       "4                       0.0                     0.0  \n",
       "6                       0.0                     0.0  \n",
       "8                       0.0                     0.0  "
      ]
     },
     "execution_count": 7,
     "metadata": {},
     "output_type": "execute_result"
    }
   ],
   "source": [
    "df_ct_sa = oup.sensitivity(base_case=2,init_df=df)\n",
    "df_ct_sa"
   ]
  },
  {
   "cell_type": "code",
   "execution_count": 8,
   "metadata": {},
   "outputs": [],
   "source": [
    "df_ct_sa.to_csv('ct-df-sa.csv')"
   ]
  },
  {
   "cell_type": "code",
   "execution_count": null,
   "metadata": {},
   "outputs": [],
   "source": []
  }
 ],
 "metadata": {
  "kernelspec": {
   "display_name": "Python 3",
   "language": "python",
   "name": "python3"
  },
  "language_info": {
   "codemirror_mode": {
    "name": "ipython",
    "version": 3
   },
   "file_extension": ".py",
   "mimetype": "text/x-python",
   "name": "python",
   "nbconvert_exporter": "python",
   "pygments_lexer": "ipython3",
   "version": "3.6.7"
  }
 },
 "nbformat": 4,
 "nbformat_minor": 4
}
