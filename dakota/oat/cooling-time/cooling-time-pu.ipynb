{
 "cells": [
  {
   "cell_type": "markdown",
   "metadata": {},
   "source": [
    "** In this Jupyter Notebook, the absolute + sensitivity analysis results are generated for a One-at-a-time sensitivity analysis of cooling time for the proliferation risk evaluation metric. The reason why this metric is separated from the others is that you need the -exp version of each sqlite and pyne on your machine to make it work **"
   ]
  },
  {
   "cell_type": "code",
   "execution_count": 2,
   "metadata": {},
   "outputs": [
    {
     "name": "stderr",
     "output_type": "stream",
     "text": [
      "/Users/gwenchee/anaconda3/lib/python3.6/importlib/_bootstrap.py:219: QAWarning: pyne.data is not yet QA compliant.\n",
      "  return f(*args, **kwds)\n",
      "/Users/gwenchee/anaconda3/lib/python3.6/importlib/_bootstrap.py:219: QAWarning: pyne.material is not yet QA compliant.\n",
      "  return f(*args, **kwds)\n",
      "/Users/gwenchee/anaconda3/lib/python3.6/importlib/_bootstrap.py:219: QAWarning: pyne.enrichment is not yet QA compliant.\n",
      "  return f(*args, **kwds)\n"
     ]
    }
   ],
   "source": [
    "import cymetric as cym\n",
    "from cymetric import timeseries\n",
    "import matplotlib as plt \n",
    "import pandas as pd\n",
    "import numpy as np\n",
    "import sys \n",
    "sys.path.insert(0, '../../../scripts/')\n",
    "import output as oup"
   ]
  },
  {
   "cell_type": "markdown",
   "metadata": {},
   "source": [
    "# This is when you already have the results "
   ]
  },
  {
   "cell_type": "code",
   "execution_count": 7,
   "metadata": {},
   "outputs": [
    {
     "data": {
      "text/html": [
       "<div>\n",
       "<style scoped>\n",
       "    .dataframe tbody tr th:only-of-type {\n",
       "        vertical-align: middle;\n",
       "    }\n",
       "\n",
       "    .dataframe tbody tr th {\n",
       "        vertical-align: top;\n",
       "    }\n",
       "\n",
       "    .dataframe thead th {\n",
       "        text-align: right;\n",
       "    }\n",
       "</style>\n",
       "<table border=\"1\" class=\"dataframe\">\n",
       "  <thead>\n",
       "    <tr style=\"text-align: right;\">\n",
       "      <th></th>\n",
       "      <th>Max Pu in all CP</th>\n",
       "      <th>Pu Quality in all CP at Max Pu</th>\n",
       "      <th>Max Pu in HLW</th>\n",
       "      <th>Pu Quality in HLW at Max Pu</th>\n",
       "      <th>Max Pu in all RPR</th>\n",
       "      <th>Pu Quality in all RPR at Max Pu</th>\n",
       "    </tr>\n",
       "    <tr>\n",
       "      <th>CT</th>\n",
       "      <th></th>\n",
       "      <th></th>\n",
       "      <th></th>\n",
       "      <th></th>\n",
       "      <th></th>\n",
       "      <th></th>\n",
       "    </tr>\n",
       "  </thead>\n",
       "  <tbody>\n",
       "    <tr>\n",
       "      <th>0</th>\n",
       "      <td>48979.28149</td>\n",
       "      <td>0.658285</td>\n",
       "      <td>44426.64870</td>\n",
       "      <td>0.620082</td>\n",
       "      <td>2800580.691</td>\n",
       "      <td>0.490396</td>\n",
       "    </tr>\n",
       "    <tr>\n",
       "      <th>2</th>\n",
       "      <td>199036.05600</td>\n",
       "      <td>0.604012</td>\n",
       "      <td>43629.18450</td>\n",
       "      <td>0.619566</td>\n",
       "      <td>2637125.071</td>\n",
       "      <td>0.483398</td>\n",
       "    </tr>\n",
       "    <tr>\n",
       "      <th>4</th>\n",
       "      <td>368405.04070</td>\n",
       "      <td>0.583823</td>\n",
       "      <td>42844.40218</td>\n",
       "      <td>0.618849</td>\n",
       "      <td>2460403.988</td>\n",
       "      <td>0.478289</td>\n",
       "    </tr>\n",
       "    <tr>\n",
       "      <th>6</th>\n",
       "      <td>554321.65720</td>\n",
       "      <td>0.570506</td>\n",
       "      <td>42646.71544</td>\n",
       "      <td>0.618617</td>\n",
       "      <td>2290857.918</td>\n",
       "      <td>0.473204</td>\n",
       "    </tr>\n",
       "    <tr>\n",
       "      <th>8</th>\n",
       "      <td>733483.85210</td>\n",
       "      <td>0.560343</td>\n",
       "      <td>42858.09938</td>\n",
       "      <td>0.618184</td>\n",
       "      <td>2111786.283</td>\n",
       "      <td>0.468897</td>\n",
       "    </tr>\n",
       "  </tbody>\n",
       "</table>\n",
       "</div>"
      ],
      "text/plain": [
       "    Max Pu in all CP  Pu Quality in all CP at Max Pu  Max Pu in HLW  \\\n",
       "CT                                                                    \n",
       "0        48979.28149                        0.658285    44426.64870   \n",
       "2       199036.05600                        0.604012    43629.18450   \n",
       "4       368405.04070                        0.583823    42844.40218   \n",
       "6       554321.65720                        0.570506    42646.71544   \n",
       "8       733483.85210                        0.560343    42858.09938   \n",
       "\n",
       "    Pu Quality in HLW at Max Pu  Max Pu in all RPR  \\\n",
       "CT                                                   \n",
       "0                      0.620082        2800580.691   \n",
       "2                      0.619566        2637125.071   \n",
       "4                      0.618849        2460403.988   \n",
       "6                      0.618617        2290857.918   \n",
       "8                      0.618184        2111786.283   \n",
       "\n",
       "    Pu Quality in all RPR at Max Pu  \n",
       "CT                                   \n",
       "0                          0.490396  \n",
       "2                          0.483398  \n",
       "4                          0.478289  \n",
       "6                          0.473204  \n",
       "8                          0.468897  "
      ]
     },
     "execution_count": 7,
     "metadata": {},
     "output_type": "execute_result"
    }
   ],
   "source": [
    "df_p = pd.read_csv('ct-df-pu.csv',index_col='CT')\n",
    "df_p"
   ]
  },
  {
   "cell_type": "markdown",
   "metadata": {},
   "source": [
    "# The rest of the code below is to generate the above results"
   ]
  },
  {
   "cell_type": "code",
   "execution_count": null,
   "metadata": {},
   "outputs": [],
   "source": [
    "starter_string = 'CT'\n",
    "scenario_nums = ['0','2','4','6','8']"
   ]
  },
  {
   "cell_type": "code",
   "execution_count": null,
   "metadata": {},
   "outputs": [],
   "source": [
    "df_p = oup.initialize_df(scenario_index=starter_string,\n",
    "                                 scenarios_nums=scenario_nums)"
   ]
  },
  {
   "cell_type": "code",
   "execution_count": null,
   "metadata": {},
   "outputs": [],
   "source": [
    "df_p['Max Pu in all CP'] = 0\n",
    "df_p['Pu Quality in all CP at Max Pu'] = 0\n",
    "df_p['Max Pu in HLW'] = 0\n",
    "df_p['Pu Quality in HLW at Max Pu'] = 0\n",
    "df_p['Max Pu in all RPR'] = 0\n",
    "df_p['Pu Quality in all RPR at Max Pu'] = 0"
   ]
  },
  {
   "cell_type": "code",
   "execution_count": null,
   "metadata": {},
   "outputs": [],
   "source": [
    "output_start = '../cyclus-files/oat/cooling-time/ct'\n",
    "ev_dict = {}\n",
    "for x in range(len(scenario_nums)): \n",
    "    output_file = output_start + scenario_nums[x]+'-exp.sqlite'\n",
    "    ev_dict[scenario_nums[x]] = cym.Evaluator(db=cym.dbopen(output_file),write=True)"
   ]
  },
  {
   "cell_type": "code",
   "execution_count": null,
   "metadata": {},
   "outputs": [],
   "source": [
    "for x in range(len(scenario_nums)): \n",
    "    cp = cym.timeseries.inventories(ev_dict[scenario_nums[x]],facilities=['lwrstorage','moxstorage','frstorage'],nucs=['pu-238','pu-239','pu-240','pu-241','pu-242','pu-244'])['Quantity']\n",
    "    fissile_cp = cym.timeseries.inventories(ev_dict[scenario_nums[x]],facilities=['lwrstorage','moxstorage','frstorage'],nucs=['pu-239','pu-241'])['Quantity']\n",
    "    df_p.loc[scenario_nums[x],'Max Pu in all CP'] = cp.max()\n",
    "    df_p.loc[scenario_nums[x],'Pu Quality in all CP at Max Pu'] = fissile_cp[cp.idxmax()]/cp.max()\n",
    "    hlw = cym.timeseries.inventories(ev_dict[scenario_nums[x]],facilities=['enrichmentsink','lwrsink','moxsink','frsink'],nucs=['pu-238','pu-239','pu-240','pu-241','pu-242','pu-244'])['Quantity']\n",
    "    fissile_hlw = cym.timeseries.inventories(ev_dict[scenario_nums[x]],facilities=['enrichmentsink','lwrsink','moxsink','frsink'],nucs=['pu-239','pu-241'])['Quantity']\n",
    "    df_p.loc[scenario_nums[x],'Max Pu in HLW'] = hlw.max()\n",
    "    df_p.loc[scenario_nums[x],'Pu Quality in HLW at Max Pu'] = fissile_hlw[hlw.idxmax()]/hlw.max()\n",
    "    rpr = cym.timeseries.inventories(ev_dict[scenario_nums[x]],facilities=['lwrreprocessing','moxreprocessing','frreprocessing'],nucs=['pu-238','pu-239','pu-240','pu-241','pu-242','pu-244'])['Quantity']\n",
    "    fissile_rpr = cym.timeseries.inventories(ev_dict[scenario_nums[x]],facilities=['lwrreprocessing','moxreprocessing','frreprocessing'],nucs=['pu-239','pu-241'])['Quantity']\n",
    "    df_p.loc[scenario_nums[x],'Max Pu in all RPR'] = rpr.max()\n",
    "    df_p.loc[scenario_nums[x],'Pu Quality in all RPR at Max Pu'] = fissile_rpr[rpr.idxmax()]/rpr.max()"
   ]
  },
  {
   "cell_type": "code",
   "execution_count": null,
   "metadata": {},
   "outputs": [],
   "source": [
    "df_p.to_csv('ct-df-pu.csv')"
   ]
  },
  {
   "cell_type": "code",
   "execution_count": 8,
   "metadata": {},
   "outputs": [
    {
     "data": {
      "text/html": [
       "<div>\n",
       "<style scoped>\n",
       "    .dataframe tbody tr th:only-of-type {\n",
       "        vertical-align: middle;\n",
       "    }\n",
       "\n",
       "    .dataframe tbody tr th {\n",
       "        vertical-align: top;\n",
       "    }\n",
       "\n",
       "    .dataframe thead th {\n",
       "        text-align: right;\n",
       "    }\n",
       "</style>\n",
       "<table border=\"1\" class=\"dataframe\">\n",
       "  <thead>\n",
       "    <tr style=\"text-align: right;\">\n",
       "      <th></th>\n",
       "      <th>Max Pu in all CP</th>\n",
       "      <th>Pu Quality in all CP at Max Pu</th>\n",
       "      <th>Max Pu in HLW</th>\n",
       "      <th>Pu Quality in HLW at Max Pu</th>\n",
       "      <th>Max Pu in all RPR</th>\n",
       "      <th>Pu Quality in all RPR at Max Pu</th>\n",
       "    </tr>\n",
       "    <tr>\n",
       "      <th>CT</th>\n",
       "      <th></th>\n",
       "      <th></th>\n",
       "      <th></th>\n",
       "      <th></th>\n",
       "      <th></th>\n",
       "      <th></th>\n",
       "    </tr>\n",
       "  </thead>\n",
       "  <tbody>\n",
       "    <tr>\n",
       "      <th>0</th>\n",
       "      <td>-75.391754</td>\n",
       "      <td>8.985512</td>\n",
       "      <td>1.827823</td>\n",
       "      <td>0.083333</td>\n",
       "      <td>6.198251</td>\n",
       "      <td>1.447639</td>\n",
       "    </tr>\n",
       "    <tr>\n",
       "      <th>2</th>\n",
       "      <td>0.000000</td>\n",
       "      <td>0.000000</td>\n",
       "      <td>0.000000</td>\n",
       "      <td>0.000000</td>\n",
       "      <td>0.000000</td>\n",
       "      <td>0.000000</td>\n",
       "    </tr>\n",
       "    <tr>\n",
       "      <th>4</th>\n",
       "      <td>85.094625</td>\n",
       "      <td>-3.342451</td>\n",
       "      <td>-1.798755</td>\n",
       "      <td>-0.115688</td>\n",
       "      <td>-6.701278</td>\n",
       "      <td>-1.056889</td>\n",
       "    </tr>\n",
       "    <tr>\n",
       "      <th>6</th>\n",
       "      <td>178.503136</td>\n",
       "      <td>-5.547091</td>\n",
       "      <td>-2.251862</td>\n",
       "      <td>-0.153037</td>\n",
       "      <td>-13.130479</td>\n",
       "      <td>-2.108881</td>\n",
       "    </tr>\n",
       "    <tr>\n",
       "      <th>8</th>\n",
       "      <td>268.518080</td>\n",
       "      <td>-7.229720</td>\n",
       "      <td>-1.767361</td>\n",
       "      <td>-0.223029</td>\n",
       "      <td>-19.920890</td>\n",
       "      <td>-2.999790</td>\n",
       "    </tr>\n",
       "  </tbody>\n",
       "</table>\n",
       "</div>"
      ],
      "text/plain": [
       "    Max Pu in all CP  Pu Quality in all CP at Max Pu  Max Pu in HLW  \\\n",
       "CT                                                                    \n",
       "0         -75.391754                        8.985512       1.827823   \n",
       "2           0.000000                        0.000000       0.000000   \n",
       "4          85.094625                       -3.342451      -1.798755   \n",
       "6         178.503136                       -5.547091      -2.251862   \n",
       "8         268.518080                       -7.229720      -1.767361   \n",
       "\n",
       "    Pu Quality in HLW at Max Pu  Max Pu in all RPR  \\\n",
       "CT                                                   \n",
       "0                      0.083333           6.198251   \n",
       "2                      0.000000           0.000000   \n",
       "4                     -0.115688          -6.701278   \n",
       "6                     -0.153037         -13.130479   \n",
       "8                     -0.223029         -19.920890   \n",
       "\n",
       "    Pu Quality in all RPR at Max Pu  \n",
       "CT                                   \n",
       "0                          1.447639  \n",
       "2                          0.000000  \n",
       "4                         -1.056889  \n",
       "6                         -2.108881  \n",
       "8                         -2.999790  "
      ]
     },
     "execution_count": 8,
     "metadata": {},
     "output_type": "execute_result"
    }
   ],
   "source": [
    "df_p_sa = oup.sensitivity(2,df_p)\n",
    "df_p_sa"
   ]
  },
  {
   "cell_type": "code",
   "execution_count": 9,
   "metadata": {},
   "outputs": [],
   "source": [
    "df_p_sa.to_csv('ct-df-pu-sa.csv')"
   ]
  },
  {
   "cell_type": "code",
   "execution_count": null,
   "metadata": {},
   "outputs": [],
   "source": []
  }
 ],
 "metadata": {
  "kernelspec": {
   "display_name": "Python 3",
   "language": "python",
   "name": "python3"
  },
  "language_info": {
   "codemirror_mode": {
    "name": "ipython",
    "version": 3
   },
   "file_extension": ".py",
   "mimetype": "text/x-python",
   "name": "python",
   "nbconvert_exporter": "python",
   "pygments_lexer": "ipython3",
   "version": "3.6.4"
  }
 },
 "nbformat": 4,
 "nbformat_minor": 2
}
